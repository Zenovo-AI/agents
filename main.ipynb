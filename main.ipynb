{
 "cells": [
  {
   "cell_type": "code",
   "execution_count": 1,
   "metadata": {},
   "outputs": [
    {
     "name": "stderr",
     "output_type": "stream",
     "text": [
      "/Applications/anaconda3/envs/agent/lib/python3.10/site-packages/pydantic/_internal/_config.py:341: UserWarning: Valid config keys have changed in V2:\n",
      "* 'allow_population_by_field_name' has been renamed to 'populate_by_name'\n",
      "* 'smart_union' has been removed\n",
      "  warnings.warn(message, UserWarning)\n"
     ]
    },
    {
     "name": "stdout",
     "output_type": "stream",
     "text": [
      "Here's a detailed description about the blue-ringed octopus:\n",
      "\n",
      "1. The blue-ringed octopus, scientifically known as Hapalochlaena, is a genus that consists of four species of octopuses.\n",
      "2. They are known for their bright blue rings, which appear when the octopus feels threatened. When at rest, these rings are often invisible or appear as faint outlines.\n",
      "3. They are small in size, typically 12 to 20 cm (5 to 8 in) in length, but pack a deadly punch. They carry enough venom to kill 26 adult humans within minutes.\n",
      "4. Their venom contains a potent neurotoxin called tetrodotoxin, which is also found in pufferfish and some types of newts. This toxin can cause paralysis and death if not treated immediately.\n",
      "5. Despite their dangerous nature, blue-ringed octopuses are not aggressive animals. They only bite when they feel threatened or provoked.\n",
      "6. They are found in tide pools and coral reefs in the Pacific and Indian Oceans, from Japan to Australia.\n",
      "7. The female blue-ringed octopus lays only one clutch of about 50 eggs in her lifetime. After laying her eggs, the female guards them until they hatch, and dies shortly after due to starvation.\n"
     ]
    }
   ],
   "source": [
    "from dotenv import load_dotenv\n",
    "import os\n",
    "from crewai import Crew, Process, Agent, Task\n",
    "\n",
    "# Load environment variables from a .env file (if applicable)\n",
    "load_dotenv()\n",
    "\n",
    "# Set the model name for OpenAI API\n",
    "os.environ['OPENAI_MODEL_NAME'] = 'gpt-4'\n",
    "\n",
    "# Define the agent\n",
    "info_agent = Agent(\n",
    "    role=\"Information Agent\",   \n",
    "    goal=\"Give compelling information about a certain topic\",\n",
    "    backstory=\"\"\"\n",
    "        You love to know information.  People love and hate you for it.  You win most of the\n",
    "        quizzes at your local pub.\n",
    "    \"\"\"\n",
    ")\n",
    "\n",
    "# Define the task\n",
    "task1 = Task(\n",
    "    description=\"Tell me all about the blue-ringed octopus.\",\n",
    "    expected_output=\"Give me a quick summary and then also give me 7 bullet points describing it.\",\n",
    "    agent=info_agent\n",
    ")\n",
    "\n",
    "# Create the crew with the defined agent and task\n",
    "crew = Crew(\n",
    "    agents=[info_agent],\n",
    "    tasks=[task1],\n",
    "    process=Process.sequential  # Execute tasks one after another\n",
    ")\n",
    "\n",
    "# Kick off the process and pass necessary inputs (empty in this case)\n",
    "result = crew.kickoff(inputs={})\n",
    "\n",
    "# Print the result\n",
    "print(result)"
   ]
  }
 ],
 "metadata": {
  "kernelspec": {
   "display_name": "agent",
   "language": "python",
   "name": "python3"
  },
  "language_info": {
   "codemirror_mode": {
    "name": "ipython",
    "version": 3
   },
   "file_extension": ".py",
   "mimetype": "text/x-python",
   "name": "python",
   "nbconvert_exporter": "python",
   "pygments_lexer": "ipython3",
   "version": "3.10.14"
  }
 },
 "nbformat": 4,
 "nbformat_minor": 2
}
