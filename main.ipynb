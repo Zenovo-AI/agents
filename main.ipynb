{
 "cells": [
  {
   "cell_type": "code",
   "execution_count": 2,
   "metadata": {},
   "outputs": [],
   "source": [
    "from dotenv import load_dotenv\n",
    "import os\n",
    "from crewai import Crew, Process, Agent, Task\n",
    "import sys\n",
    "from crewai_tools import SerperDevTool\n",
    "\n",
    "\n",
    "\n"
   ]
  },
  {
   "cell_type": "code",
   "execution_count": 2,
   "metadata": {},
   "outputs": [
    {
     "name": "stdout",
     "output_type": "stream",
     "text": [
      "The blue-ringed octopus is a species of octopus that is native to the Pacific and Indian Oceans, particularly around Japan and Australia. It is one of the world's most venomous marine animals and is known for its bright blue rings that appear when it feels threatened.\n",
      "\n",
      "1. Size and Appearance: Blue-ringed octopuses are small, with most species reaching a size of only about 5 to 8 inches in diameter. Their most distinguishing feature is the bright blue rings that appear on their bodies when they feel threatened or agitated.\n",
      "\n",
      "2. Habitat: They are found in tide pools and coral reefs in the Pacific and Indian Oceans, particularly around Japan and Australia.\n",
      "\n",
      "3. Diet: They feed primarily on small crustaceans and fish, which they paralyze using their venom before consuming.\n",
      "\n",
      "4. Venomous Bite: The blue-ringed octopus is one of the most venomous creatures in the sea. Its venom contains a powerful neurotoxin that can cause paralysis and death in humans.\n",
      "\n",
      "5. Breeding: During mating, the male octopus inserts a specialized arm into the female's mantle cavity to deposit sperm packets. The female then lays about 50 to 100 eggs, which she guards until they hatch.\n",
      "\n",
      "6. Lifespan: Blue-ringed octopuses live for about two years. The female dies shortly after her eggs hatch, while males die a few months after mating.\n",
      "\n",
      "7. Defense Mechanism: When threatened, the blue-ringed octopus flashes its brilliant blue rings as a warning to potential predators. If the threat continues, it delivers a venomous bite.\n"
     ]
    }
   ],
   "source": [
    "# Load environment variables from a .env file (if applicable)\n",
    "load_dotenv()\n",
    "\n",
    "# Set the model name for OpenAI API\n",
    "os.environ['OPENAI_MODEL_NAME'] = 'gpt-4'\n",
    "\n",
    "# Define the agent\n",
    "info_agent = Agent(\n",
    "    role=\"Information Agent\",   \n",
    "    goal=\"Give compelling information about a certain topic\",\n",
    "    backstory=\"\"\"\n",
    "        You love to know information.  People love and hate you for it.  You win most of the\n",
    "        quizzes at your local pub.\n",
    "    \"\"\"\n",
    ")\n",
    "\n",
    "# Define the task\n",
    "task1 = Task(\n",
    "    description=\"Tell me all about the blue-ringed octopus.\",\n",
    "    expected_output=\"Give me a quick summary and then also give me 7 bullet points describing it.\",\n",
    "    agent=info_agent\n",
    ")\n",
    "\n",
    "# Create the crew with the defined agent and task\n",
    "crew = Crew(\n",
    "    agents=[info_agent],\n",
    "    tasks=[task1],\n",
    "    process=Process.sequential  # Execute tasks one after another\n",
    ")\n",
    "\n",
    "# Kick off the process and pass necessary inputs (empty in this case)\n",
    "result = crew.kickoff(inputs={})\n",
    "\n",
    "# Print the result\n",
    "print(result)"
   ]
  },
  {
   "cell_type": "code",
   "execution_count": null,
   "metadata": {},
   "outputs": [],
   "source": []
  }
 ],
 "metadata": {
  "kernelspec": {
   "display_name": "agent",
   "language": "python",
   "name": "python3"
  },
  "language_info": {
   "codemirror_mode": {
    "name": "ipython",
    "version": 3
   },
   "file_extension": ".py",
   "mimetype": "text/x-python",
   "name": "python",
   "nbconvert_exporter": "python",
   "pygments_lexer": "ipython3",
   "version": "3.10.14"
  }
 },
 "nbformat": 4,
 "nbformat_minor": 2
}
